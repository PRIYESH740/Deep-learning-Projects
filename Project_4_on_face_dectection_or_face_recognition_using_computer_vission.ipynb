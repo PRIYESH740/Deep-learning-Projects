{
 "cells": [
  {
   "cell_type": "markdown",
   "id": "563f39c2",
   "metadata": {},
   "source": [
    "Importing all the required libraries"
   ]
  },
  {
   "cell_type": "code",
   "execution_count": null,
   "id": "a2e7cf66",
   "metadata": {},
   "outputs": [],
   "source": [
    "import face_recognition   ##Detecting and recogniting faces\n",
    "import cv2     ## intracting with images\n",
    "import os       ## For Reading the file name\n",
    "from google.colab.patches import cv2_imshow ## google colab doesn't support cv2.imshow() funciton."
   ]
  },
  {
   "cell_type": "markdown",
   "id": "e2040b60",
   "metadata": {},
   "source": [
    "Now We will create a function that can be used to read and reshape the images. It only takes the file path as an input."
   ]
  },
  {
   "cell_type": "code",
   "execution_count": null,
   "id": "8fe23903",
   "metadata": {},
   "outputs": [],
   "source": [
    "def read_img(path):\n",
    "   img = cv2.imread(path) ## reading image\n",
    "   (h,w) = img.shape[:2]  ## fetching height and width\n",
    "   width = 500            ## hard coding width\n",
    "   ratio = width / float(w) ## preparing a ration for height\n",
    "   height = int(h * ratio)  ## generating new height\n",
    "   return cv2.resize(img,(width,height)) ##return the reshaped image"
   ]
  },
  {
   "cell_type": "markdown",
   "id": "bff47091",
   "metadata": {},
   "source": [
    "The Face_recognition library recognizes faces by generating different-different encodings for each known face and unknown face and then both the encodings get compared and whichever encoding is matched it shows the label name as output"
   ]
  },
  {
   "cell_type": "markdown",
   "id": "66c8a527",
   "metadata": {},
   "source": [
    "Preparing encodings for Known Faces"
   ]
  },
  {
   "cell_type": "code",
   "execution_count": null,
   "id": "a5f4d977",
   "metadata": {},
   "outputs": [],
   "source": [
    "known_encodings = []\n",
    "known_names = []\n",
    "known_dir = '/content/drive/MyDrive/Colab Notebooks/Images' ##Known directory path\n",
    "for file in os.listdir(known_dir):\n",
    "  img = read_img(known_dir + '/' + file) ##Reading all the images\n",
    "  img_enc = face_recognition.face_encodings(img)[0] ##face encodings\n",
    "  known_encodings.append(img_enc)\n",
    "  known_names.append(file.split('.')[0])\n",
    "print(known_names) ## Printing all the known labels"
   ]
  },
  {
   "cell_type": "markdown",
   "id": "202ca613",
   "metadata": {},
   "source": [
    "The next and the final step is to prepare encodings for unknown faces, comparing them with known encoding and drawing a rectangle on the unknown faces with the known name."
   ]
  },
  {
   "cell_type": "code",
   "execution_count": null,
   "id": "93a2c03a",
   "metadata": {},
   "outputs": [],
   "source": [
    "unknown_dir = '/content/drive/MyDrive/Datasets/UNKN' ##UNknown Images Directory\n",
    "for file in os.listdir(unknown_dir):\n",
    " print(\"Processing\",file)\n",
    " img = read_img(unknown_dir + '/' + file)##reading images\n",
    " img_enc = face_recognition.face_encodings(img)[0]##Encodings\n",
    " results = face_recognition.compare_faces(known_encodings,img_enc)\n",
    " ##Comparing Known Encodings with Unknown encoding\n",
    " print(face_recognition.face_distance(known_encodings,img_enc))\n",
    " ## Printing Face Distances\n",
    " res = [i for i, val in enumerate(results) if val]\n",
    " name = known_names[res[0]]\n",
    "\n",
    " '''\n",
    "Drawing a rectangle box around the faces of unknown images using  face_locations function in library\n",
    "'''\n",
    " (top,right,bottom,left) = face_recognition.face_locations(img)[0]\n",
    " cv2.rectangle(img,(left,top),(right,bottom),(255,255,100),2)\n",
    " ##Drawing Rectangle\n",
    " cv2.putText(img,name,(left+2,bottom+20),cv2.FONT_HERSHEY_PLAIN,3, (100,0,255),2) ##Putting labels(names) on the rectangle\n",
    " cv2_imshow(img) ##showing images"
   ]
  },
  {
   "cell_type": "code",
   "execution_count": 1,
   "id": "f3948bad",
   "metadata": {},
   "outputs": [],
   "source": [
    "# import cv2\n",
    "\n",
    "# # Open the default camera\n",
    "# cam = cv2.VideoCapture(0)\n",
    "\n",
    "# # Get the default frame width and height\n",
    "# frame_width = int(cam.get(cv2.CAP_PROP_FRAME_WIDTH))\n",
    "# frame_height = int(cam.get(cv2.CAP_PROP_FRAME_HEIGHT))\n",
    "\n",
    "# # Define the codec and create VideoWriter object\n",
    "# fourcc = cv2.VideoWriter_fourcc(*'mp4v')\n",
    "# out = cv2.VideoWriter('output.mp4', fourcc, 20.0, (frame_width, frame_height))\n",
    "\n",
    "# while True:\n",
    "#     ret, frame = cam.read()\n",
    "\n",
    "#     # Write the frame to the output file\n",
    "#     out.write(frame)\n",
    "\n",
    "#     # Display the captured frame\n",
    "#     cv2.imshow('Camera', frame)\n",
    "\n",
    "#     # Press 'q' to exit the loop\n",
    "#     if cv2.waitKey(1) == ord('q'):\n",
    "#         break\n",
    "\n",
    "# # Release the capture and writer objects\n",
    "# cam.release()\n",
    "# out.release()\n",
    "# cv2.destroyAllWindows()"
   ]
  },
  {
   "cell_type": "code",
   "execution_count": null,
   "id": "28ec3f37",
   "metadata": {},
   "outputs": [],
   "source": []
  }
 ],
 "metadata": {
  "kernelspec": {
   "display_name": "Python 3 (ipykernel)",
   "language": "python",
   "name": "python3"
  },
  "language_info": {
   "codemirror_mode": {
    "name": "ipython",
    "version": 3
   },
   "file_extension": ".py",
   "mimetype": "text/x-python",
   "name": "python",
   "nbconvert_exporter": "python",
   "pygments_lexer": "ipython3",
   "version": "3.11.5"
  }
 },
 "nbformat": 4,
 "nbformat_minor": 5
}
